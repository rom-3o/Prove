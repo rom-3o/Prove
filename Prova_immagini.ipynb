{
 "cells": [
  {
   "cell_type": "markdown",
   "id": "1f30b934-b30e-49bd-9845-c73e83299b5c",
   "metadata": {},
   "source": [
    "# Pagina di prova\n",
    "<a id=\"inizio\"/>"
   ]
  },
  {
   "cell_type": "markdown",
   "id": "a2941aa1-deac-4055-afe9-1d3907460a72",
   "metadata": {},
   "source": [
    "Il kernel che uso è Python3, installato apposta, ma prima usavo anche la versione di base fornita da Anaconda. Il risultato è lo stesso."
   ]
  },
  {
   "cell_type": "markdown",
   "id": "126f7bda-3ede-485f-a3e1-551337d0c678",
   "metadata": {},
   "source": [
    "Di seguito provo a caricare un'immagine.\n",
    "Quindi mi porto prima nella cartella di riferimento, al seguente percorso:"
   ]
  },
  {
   "cell_type": "code",
   "execution_count": 7,
   "id": "d3fe8d0a-73d6-4a3e-9b90-ddc1959aa18d",
   "metadata": {},
   "outputs": [
    {
     "name": "stdout",
     "output_type": "stream",
     "text": [
      "C:\\Users\\Romeo\\Not-a-book\\Teoria\\Memories_box\n"
     ]
    }
   ],
   "source": [
    "%cd C:\\\\Users\\\\Romeo\\Not-a-book\\Teoria\\Memories_box"
   ]
  },
  {
   "cell_type": "markdown",
   "id": "d20d9c1b-7822-49e1-ae82-94afd057d22b",
   "metadata": {},
   "source": [
    "E controllo che l'immagine che voglio caricare, data_types_weight.png, sia effettivamente presente:"
   ]
  },
  {
   "cell_type": "code",
   "execution_count": 8,
   "id": "fdb76baf-3d2d-4610-98da-6fc7e1af42e2",
   "metadata": {},
   "outputs": [
    {
     "name": "stdout",
     "output_type": "stream",
     "text": [
      " Il volume nell'unit� C � OS\n",
      " Numero di serie del volume: 1E56-F2C8\n",
      "\n",
      " Directory di C:\\Users\\Romeo\\Not-a-book\\Teoria\\Memories_box\n",
      "\n",
      "25/12/2024  10:13    <DIR>          .\n",
      "25/12/2024  10:13    <DIR>          ..\n",
      "23/12/2024  10:37           287.585 data_types_weight.png\n",
      "               1 File        287.585 byte\n",
      "               2 Directory  22.634.991.616 byte disponibili\n"
     ]
    }
   ],
   "source": [
    "%ls"
   ]
  },
  {
   "cell_type": "markdown",
   "id": "d6fb2006-e5a1-4855-916e-53cc249b0ec3",
   "metadata": {},
   "source": [
    "Carico dunque l'immagine tramite lo shell command:\n",
    "\n",
    "![alternative_text_peso_dati](data_types_weight.png)"
   ]
  },
  {
   "cell_type": "markdown",
   "id": "f91cffa4-2a1b-4780-8716-7e9128960c89",
   "metadata": {},
   "source": [
    "Se si preme Ctrl+invio, si ottiene l'icona dell'immagine rotta, che puoi vedere qui sotto (l'immagine è caricata con codice python):"
   ]
  },
  {
   "cell_type": "code",
   "execution_count": 11,
   "id": "7e8e6863-1c5f-4446-ac7b-6cadac18dfae",
   "metadata": {},
   "outputs": [
    {
     "data": {
      "image/png": "[encoded data removed]",
      "text/plain": [
       "<IPython.core.display.Image object>"
      ]
     },
     "metadata": {},
     "output_type": "display_data"
    }
   ],
   "source": [
    "from IPython.display import display, Image\n",
    "display(Image(\"icona_rotta.png\"))"
   ]
  },
  {
   "cell_type": "markdown",
   "id": "86d575d8-ccc5-4d6c-bdae-94eebc5db94e",
   "metadata": {},
   "source": [
    "Ottengo lo stesso risultato anche con codice HTML:"
   ]
  },
  {
   "cell_type": "markdown",
   "id": "050f1d27-2f9d-44e8-99c8-45b4ed79dae2",
   "metadata": {},
   "source": [
    "<img src=\"data_types_weight.png\"/>"
   ]
  },
  {
   "cell_type": "markdown",
   "id": "1255ae2f-eb54-4c6f-971a-2b0f1c550fd2",
   "metadata": {},
   "source": [
    "A parte ciò, ho un altro problema coi collegamenti interni, cioè se voglio creare [da qui](#inizio) un link per ritornare all'inizio, non funziona."
   ]
  },
  {
   "cell_type": "code",
   "execution_count": null,
   "id": "f1551e59-d0a6-40a3-9623-0bc7064aff87",
   "metadata": {},
   "outputs": [],
   "source": []
  }
 ],
 "metadata": {
  "kernelspec": {
   "display_name": "Python 3 (ipykernel)",
   "language": "python",
   "name": "python3"
  },
  "language_info": {
   "codemirror_mode": {
    "name": "ipython",
    "version": 3
   },
   "file_extension": ".py",
   "mimetype": "text/x-python",
   "name": "python",
   "nbconvert_exporter": "python",
   "pygments_lexer": "ipython3",
   "version": "3.12.8"
  }
 },
 "nbformat": 4,
 "nbformat_minor": 5
}
